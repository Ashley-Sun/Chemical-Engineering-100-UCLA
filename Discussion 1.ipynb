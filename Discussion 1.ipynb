{
 "cells": [
  {
   "cell_type": "markdown",
   "metadata": {},
   "source": [
    "# CH ENGR 100 Discussion Week 1 by Yi Ming (Michael) Ren\n",
    "\n",
    "Credits to Jeffrey Kantor (jeff at nd.edu) for I used some of his course notes"
   ]
  },
  {
   "cell_type": "markdown",
   "metadata": {},
   "source": [
    "### Installing Python and Numpy: \n",
    "Python: https://www.ics.uci.edu/~pattis/common/handouts/pythoneclipsejava/python.html  \\\n",
    "Numpy: https://numpy.org/install/  \n",
    "Juypter Notebook: https://jupyter.readthedocs.io/en/latest/install.htm"
   ]
  },
  {
   "cell_type": "markdown",
   "metadata": {},
   "source": [
    "### The Fundamental Units of Measurement\n",
    "\n",
    "There are seven fundamental units in the Système International d'Unités (SI) system, all other unit can be generated from these.\n",
    "\n",
    "| Dimension          | SI Units          | CGS                 | English              |\n",
    "| :-------           | :---              | :-----              | :------              |\n",
    "| Mass               | kilogram (kg)     | gram (g)            | lb-mass, slug        |\n",
    "| Length             | meter (m)         | centimeter (cm)     | inch (in); foot (ft) |\n",
    "| Time               | second (s)        | second (s)          | second (sec)         |\n",
    "| Temperature        | degree Kelvin (K) | degree Celsius (°C) | degree Rankine (°R)  |\n",
    "| Quantity           | mole (gmol)       | mole (gmol)         | mole (gmol)          |"
   ]
  },
  {
   "cell_type": "markdown",
   "metadata": {},
   "source": [
    " Coherent Derived Units\n",
    "\n",
    "The SI system describes 22 'derived units' that are expressed in terms of the fundamental units.\n",
    "\n",
    "Calculations with coherent units is straightforward since they involve just ratios or products of base units. The calculations break down into three steps:\n",
    "\n",
    "1. Recast all of the problem quantities in base or coherent derived units.\n",
    "2. Perform the numerical calculations.\n",
    "3. Using algebraic rules for the cancelation of terms, simplify and reduce units to units relevant to the context of the problem."
   ]
  },
  {
   "cell_type": "markdown",
   "metadata": {},
   "source": [
    ">**Example:** The kinetic energy of a object with mass $m = 3\\ \\mbox{kg}$ traveling at velocity $v = 10 \\ \\mbox{m/s}$ is given by\n",
    ">\n",
    ">\\begin{align*}\n",
    "K.E. & = \\frac{1}{2} mv^2 \\\\\n",
    "& = \\frac{1}{2} \\left(3\\ \\mbox{kg}\\right)\\left( 10  \\frac{\\mbox{m}}{\\mbox{s}}\\right)^2 \\\\\n",
    "& = 150 \\ \\frac{\\mbox{kg}\\cdot\\mbox{m}^2}{\\mbox{s}^2}\n",
    "= 150 \\ \\mbox{N}\\cdot\\mbox{m}\n",
    "= \\fbox{150 J}\n",
    "\\end{align*}"
   ]
  },
  {
   "cell_type": "code",
   "execution_count": 1,
   "metadata": {},
   "outputs": [
    {
     "data": {
      "text/plain": [
       "150.0"
      ]
     },
     "execution_count": 1,
     "metadata": {},
     "output_type": "execute_result"
    }
   ],
   "source": [
    "m  = 3\n",
    "v = 10\n",
    "KE = 1/2*m*v**2\n",
    "KE"
   ]
  },
  {
   "cell_type": "markdown",
   "metadata": {},
   "source": [
    "> **Example:** What is the mass of air in a spherical balloon with radius of 10 cm inflated to 1 atm at 25 degrees Celsius? Assume the molecular weight of air is 28.966 grams/mole, and that atmospheric pressure is 101,325 Pa.\n",
    ">\n",
    "> _Solution:_ Start by converting all of the quantities in the problem to base or derived units.\n",
    ">\n",
    "> $$MW_{air} = 28.966\\ \\frac{\\mbox{g}}{\\mbox{mol}} = 0.028966\\ \\frac{\\mbox{kg}}{\\mbox{mol}}$$\n",
    ">\n",
    "> $$ P = 101,325\\ \\mbox{Pa} = 101,325\\ \\frac{\\mbox{N}}{\\mbox{m}^2} = 101,325\\ \\frac{\\mbox{kg}}{\\mbox{m}\\cdot\\mbox{s}^2}$$\n",
    ">\n",
    "> $$V = \\frac{4}{3}\\pi r^3 = \\frac{4}{3}\\pi \\left( 0.10\\ \\mbox{m}\\right)^3 = 0.004189\\ \\mbox{m}^3$$\n",
    ">\n",
    "> $$R = 8.314 \\frac{\\mbox{J}}{\\mbox{K}\\cdot\\mbox{mol}} = 8.314 \\frac{\\mbox{kg}\\cdot\\mbox{m}^2}{\\mbox{s}^2\\cdot\\mbox{K}\\cdot\\mbox{mol}}$$\n",
    ">\n",
    "> $$T = 25 + 273.15 = 298.15 K$$ \n",
    ">\n",
    "> Using molecular weight and the ideal gas law\n",
    "> $$ PV = nRT $$\n",
    "> $$ m_{air} = MW_{air} n_{air} = MW_{air}\\frac{PV}{RT} $$\n",
    "> \n",
    "> Substituting quantities into this expression for $m_{air}$\n",
    ">\n",
    "> \\begin{align*}\n",
    " m_{air} & = \\left(0.028966\\ \\frac{\\mbox{kg}}{\\mbox{mol}}\\right) \n",
    " \\frac{\\left(101,325\\ \\frac{\\mbox{kg}}{\\mbox{m}\\cdot\\mbox{s}^2}\\right)\\left(0.004189\\ \\mbox{m}^3\\right)}{\\left(8.314 \\frac{\\mbox{kg}\\cdot\\mbox{m}^2}{\\mbox{s}^2\\cdot\\mbox{K}\\cdot\\mbox{mol}}\\right)\\left(298.15\\ \\mbox{K}\\right)} \\\\\n",
    " & = \\frac{0.028966 \\cdot 101,325 \\cdot 0.004189}{8.314 \\cdot 298.15} \\times \\frac{\\frac{\\mbox{kg}}{\\mbox{mol}}\\cdot\\frac{\\mbox{kg}}{\\mbox{m}\\cdot\\mbox{s}^2}\\cdot\\mbox{m}^3}{\\frac{\\mbox{kg}\\cdot\\mbox{m}^2}{\\mbox{s}^2\\cdot\\mbox{K}\\cdot\\mbox{mol}} \\cdot \\mbox{K}}\\\\\n",
    " & = \\fbox{0.00496 kg}\n",
    " \\end{align*}\n",
    " * make sure you do unit conversion, I have seen so many people lose points because they do not do unit conversion"
   ]
  },
  {
   "cell_type": "code",
   "execution_count": 2,
   "metadata": {},
   "outputs": [
    {
     "data": {
      "text/plain": [
       "0.004959606713346778"
      ]
     },
     "execution_count": 2,
     "metadata": {},
     "output_type": "execute_result"
    }
   ],
   "source": [
    "MW_air = 28.966 # g/mol\n",
    "P = 101325 # Pa\n",
    "r = 10 # cm\n",
    "R = 8.314 # J/(K mol)\n",
    "T = 25 # C\n",
    "m_air = (MW_air/1000)*(P)*(4/3*(r/100)**3*3.14)/((T+273)*R)\n",
    "m_air"
   ]
  },
  {
   "cell_type": "markdown",
   "metadata": {},
   "source": [
    "### What is Python and Numpy \n",
    "Python is a general-purpose programming language that is really useful for data analysis. \\\n",
    "Currently, it is also used as the dominant programming language for machine learning and deep learning purposes.\\\n",
    "Numpy is just a python library that is used for array and matrix calculations.  "
   ]
  },
  {
   "cell_type": "code",
   "execution_count": 3,
   "metadata": {},
   "outputs": [],
   "source": [
    "import numpy as np"
   ]
  },
  {
   "cell_type": "markdown",
   "metadata": {},
   "source": [
    "### Solving systems of equations in Python \n",
    "This will make your lives a lot easier and will help you later on. \\\n",
    "Why solve such 6 equations when you can write 1 line of code??\n",
    "\n",
    "Example: \\\n",
    "$$8a+7b+10c=20$$ \\\n",
    "$$-2a+2b+30c=1$$ \\\n",
    "$$5a-3b+0.1c=30$$\n",
    "\n",
    "This translates to the problem of $Ax=b$ \\\n",
    "where $A$ is the coefficient before the variables, $x$ is a vector containing the variables [a,b,c], and $b$ is the answer vector.\n",
    "$$ A = \\left( \\begin{array}{ccc} 8 & 7 & 10\\\\  -2 & 2 & 30 \\\\  5 & -3 & 0.1 \\end{array}\\right),   x = \\left( \\begin{array}{c} a \\\\ b \\\\ c \\end{array}\\right),    b = \\left( \\begin{array}{c} 20 \\\\ 1 \\\\ 30 \\end{array}\\right)$$"
   ]
  },
  {
   "cell_type": "code",
   "execution_count": 7,
   "metadata": {},
   "outputs": [
    {
     "data": {
      "text/plain": [
       "array([[ 8. ,  7. , 10. ],\n",
       "       [-2. ,  2. , 30. ],\n",
       "       [ 5. , -3. ,  0.1]])"
      ]
     },
     "execution_count": 7,
     "metadata": {},
     "output_type": "execute_result"
    }
   ],
   "source": [
    "A = np.array([[8,7,10],[-2,2,30],[5,-3,0.1]])\n",
    "A"
   ]
  },
  {
   "cell_type": "code",
   "execution_count": 8,
   "metadata": {},
   "outputs": [
    {
     "data": {
      "text/plain": [
       "array([20,  1, 30])"
      ]
     },
     "execution_count": 8,
     "metadata": {},
     "output_type": "execute_result"
    }
   ],
   "source": [
    "b = np.array([20,1,30])\n",
    "b"
   ]
  },
  {
   "cell_type": "code",
   "execution_count": 9,
   "metadata": {},
   "outputs": [
    {
     "data": {
      "text/plain": [
       "array([ 4.31234853, -2.79584535,  0.50721293])"
      ]
     },
     "execution_count": 9,
     "metadata": {},
     "output_type": "execute_result"
    }
   ],
   "source": [
    "x = np.linalg.solve(A, b)\n",
    "x"
   ]
  },
  {
   "cell_type": "markdown",
   "metadata": {},
   "source": [
    "If you hand solve the problem, then you should get the same answer as above where $$ a=4.31234853$$ $$b=-2.79584535$$ $$c=0.50721293$$"
   ]
  },
  {
   "cell_type": "markdown",
   "metadata": {},
   "source": [
    "### Why not just do it by hand???\n",
    "While you may be able to solve the above systems of equation by hand, what if the A matrix has the dimensions of 100x100 (100 variables and 100 equations). Then solving by hand is not really a good strategy to compute the answer efficiently. \\\n",
    "Another reason if when we need to calculate a range of different coefficients. For example, what if we need to vary the first item in the coefficient matrix, A? Let us say that $a_{11}$ needs to be calculate from a range of 1-10. \n",
    "$$ A = \\left( \\begin{array}{ccc} a_{11} & 7 & 10\\\\  -2 & 2 & 30 \\\\  5 & -3 & 0.1 \\end{array}\\right),   x = \\left( \\begin{array}{c} a \\\\ b \\\\ c \\end{array}\\right),    b = \\left( \\begin{array}{c} 20 \\\\ 1 \\\\ 30 \\end{array}\\right)$$\n",
    "where $a_{11}$ ranges from 1-10. \\\n",
    "Then we would needs to use a loop in order to calculate the equation and store all the answers accordingly."
   ]
  },
  {
   "cell_type": "code",
   "execution_count": 10,
   "metadata": {},
   "outputs": [
    {
     "data": {
      "text/plain": [
       "{1: array([6.78404139, 1.31998911, 0.39760349]),\n",
       " 2: array([6.27059909, 0.46501091, 0.42037255]),\n",
       " 3: array([ 5.82940718, -0.26965679,  0.4399376 ]),\n",
       " 4: array([ 5.44621775, -0.9077394 ,  0.45693048]),\n",
       " 5: array([ 5.11029814, -1.46710886,  0.47182713]),\n",
       " 6: array([ 4.81340976, -1.96148396,  0.48499292]),\n",
       " 7: array([ 4.54912345, -2.40157049,  0.49671293]),\n",
       " 8: array([ 4.31234853, -2.79584535,  0.50721293]),\n",
       " 9: array([ 4.09900176, -3.15110794,  0.51667398]),\n",
       " 10: array([ 3.90576983, -3.47287551,  0.52524302])}"
      ]
     },
     "execution_count": 10,
     "metadata": {},
     "output_type": "execute_result"
    }
   ],
   "source": [
    "ans = {}\n",
    "for ai in range(1,11):\n",
    "    A = np.array([[ai,7,10],[-2,2,30],[5,-3,0.1]])\n",
    "    b = np.array([20,1,30])\n",
    "    x = np.linalg.solve(A, b)\n",
    "    ans[ai] = x\n",
    "ans"
   ]
  },
  {
   "cell_type": "markdown",
   "metadata": {},
   "source": [
    "As you can see, the $ans$ variable is a hashmap (dictionary) in which we can store the equations regarding to when $a_{11}$. We can type what value of $a_{11}$ we want and retrive it instantly.\\\n",
    "For example:\n",
    "If I want the solution of for when $a_{11} == 4$, then"
   ]
  },
  {
   "cell_type": "code",
   "execution_count": 11,
   "metadata": {},
   "outputs": [
    {
     "data": {
      "text/plain": [
       "array([ 5.44621775, -0.9077394 ,  0.45693048])"
      ]
     },
     "execution_count": 11,
     "metadata": {},
     "output_type": "execute_result"
    }
   ],
   "source": [
    "ans[4]"
   ]
  },
  {
   "cell_type": "markdown",
   "metadata": {},
   "source": [
    "### Chemical Engineering Problem\n",
    "Problem Statement: \\\n",
    "Liquid benzene and liquid n-hexane are blended to form a stream flowing at a rate of 700 lbm/h. An\n",
    "on-line densitometer (an instrument used to determine density) indicates that the stream has a density of\n",
    "0.810 g/mL. Using specific gravities from Table B.1, estimate the mass and volumetric feed rates of the\n",
    "two hydrocarbons to the mixing vessel (in U.S. customary units). State at least two assumptions\n",
    "required to obtain the estimate from the recommended data.\n"
   ]
  },
  {
   "cell_type": "markdown",
   "metadata": {},
   "source": [
    "Assumptions: \n",
    "1. Volumes of benzene and hexane are additive\n",
    "2. No accumulation of mass (steady-state)\n",
    "3. Density values are valid for this problem at STP"
   ]
  },
  {
   "cell_type": "markdown",
   "metadata": {},
   "source": [
    "### Balance Equations\n",
    "$V_B + V_H = V_f$ \n",
    "\n",
    "$m_B + m_H = 1700 lb_m/hr$"
   ]
  },
  {
   "cell_type": "markdown",
   "metadata": {},
   "source": [
    "$V_f = 1700\\frac{lb_m}{hr}*\\frac{1}{0.81}*\\frac{ft^3}{64.23lb_m} = 32.675 ft^3/hr$ \n",
    "\n",
    "$m_B = V_B*0.879*\\frac{64.23lb_m}{ft^3}$\n",
    "\n",
    "$m_H = V_H*0.659*\\frac{64.23lb_m}{ft^3}$"
   ]
  },
  {
   "cell_type": "code",
   "execution_count": 12,
   "metadata": {},
   "outputs": [
    {
     "data": {
      "text/plain": [
       "13.454733471340456"
      ]
     },
     "execution_count": 12,
     "metadata": {},
     "output_type": "execute_result"
    }
   ],
   "source": [
    "v_f = 700/(0.81*64.23)\n",
    "a = 0.879*62.43\n",
    "b = 0.659*62.43\n",
    "v_f"
   ]
  },
  {
   "cell_type": "markdown",
   "metadata": {},
   "source": [
    "This translates to the problem to the form of $Ax=b$ \\\n",
    "\n",
    "$$ A = \\left( \\begin{array}{cc} 1 & 1 \\\\  54.88 & 41.14 \\\\ \\end{array}\\right),   x = \\left( \\begin{array}{c} V_B \\\\ V_H \\end{array}\\right),    b = \\left( \\begin{array}{c} 32.67 \\\\ 700 \\end{array}\\right)$$"
   ]
  },
  {
   "cell_type": "code",
   "execution_count": 13,
   "metadata": {},
   "outputs": [
    {
     "data": {
      "text/plain": [
       "array([10.66313049,  2.79160298])"
      ]
     },
     "execution_count": 13,
     "metadata": {},
     "output_type": "execute_result"
    }
   ],
   "source": [
    "A = np.array([[1,1],[a,b]])\n",
    "B = np.array([v_f,700])\n",
    "x = np.linalg.solve(A, B)\n",
    "x"
   ]
  },
  {
   "cell_type": "code",
   "execution_count": 14,
   "metadata": {},
   "outputs": [
    {
     "name": "stdout",
     "output_type": "stream",
     "text": [
      "585.1496287804089 114.85037121959115 700.0\n"
     ]
    }
   ],
   "source": [
    "V_B = x[0]\n",
    "V_H = x[1]\n",
    "m_B = a*V_B\n",
    "m_H = b*V_H\n",
    "print(m_B,m_H,m_B+m_H)"
   ]
  },
  {
   "cell_type": "markdown",
   "metadata": {},
   "source": [
    "### Material Balance Equation\n",
    "$\\mbox{Accumulation} = \\mbox{Inflow} - \\mbox{Outflow} + \\mbox{Generation} - \\mbox{Consumption}$\n",
    "\n",
    "$\\underbrace{\\mbox{Accumulation}_X}_{\\frac{d(C_XV)}{dt}} = \\underbrace{\\mbox{Inflow}_X}_{=0} - \\underbrace{\\mbox{Outflow}_X}_{=0} + \\underbrace{\\mbox{Generation}_X}_{=0} - \\underbrace{\\mbox{Consumption}_X}_{=0}$"
   ]
  }
 ],
 "metadata": {
  "kernelspec": {
   "display_name": "Python 3",
   "language": "python",
   "name": "python3"
  },
  "language_info": {
   "codemirror_mode": {
    "name": "ipython",
    "version": 3
   },
   "file_extension": ".py",
   "mimetype": "text/x-python",
   "name": "python",
   "nbconvert_exporter": "python",
   "pygments_lexer": "ipython3",
   "version": "3.7.6"
  }
 },
 "nbformat": 4,
 "nbformat_minor": 4
}
